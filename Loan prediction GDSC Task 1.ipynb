{
 "cells": [
  {
   "cell_type": "markdown",
   "id": "17b5eb66",
   "metadata": {},
   "source": [
    "#### Importing all necessary libary "
   ]
  },
  {
   "cell_type": "code",
   "execution_count": 1,
   "id": "c6c6d49a",
   "metadata": {},
   "outputs": [],
   "source": [
    "import numpy as np\n",
    "import pandas as pd\n",
    "import matplotlib.pyplot as plt\n",
    "import seaborn as sns\n",
    "from sklearn import svm"
   ]
  },
  {
   "cell_type": "markdown",
   "id": "e226ca07",
   "metadata": {},
   "source": [
    "#### Importing CSV file"
   ]
  },
  {
   "cell_type": "code",
   "execution_count": 2,
   "id": "46be0f3a",
   "metadata": {},
   "outputs": [],
   "source": [
    "df=pd.read_csv(\"loanpredicition.csv\")"
   ]
  },
  {
   "cell_type": "markdown",
   "id": "ca883e93",
   "metadata": {},
   "source": [
    "#### Seeing first five Rows in CSV file "
   ]
  },
  {
   "cell_type": "code",
   "execution_count": 3,
   "id": "cdb1f0a6",
   "metadata": {},
   "outputs": [
    {
     "data": {
      "text/html": [
       "<div>\n",
       "<style scoped>\n",
       "    .dataframe tbody tr th:only-of-type {\n",
       "        vertical-align: middle;\n",
       "    }\n",
       "\n",
       "    .dataframe tbody tr th {\n",
       "        vertical-align: top;\n",
       "    }\n",
       "\n",
       "    .dataframe thead th {\n",
       "        text-align: right;\n",
       "    }\n",
       "</style>\n",
       "<table border=\"1\" class=\"dataframe\">\n",
       "  <thead>\n",
       "    <tr style=\"text-align: right;\">\n",
       "      <th></th>\n",
       "      <th>Loan_ID</th>\n",
       "      <th>Gender</th>\n",
       "      <th>Married</th>\n",
       "      <th>Dependents</th>\n",
       "      <th>Education</th>\n",
       "      <th>Self_Employed</th>\n",
       "      <th>ApplicantIncome</th>\n",
       "      <th>CoapplicantIncome</th>\n",
       "      <th>LoanAmount</th>\n",
       "      <th>Loan_Amount_Term</th>\n",
       "      <th>Credit_History</th>\n",
       "      <th>Property_Area</th>\n",
       "      <th>Loan_Status</th>\n",
       "    </tr>\n",
       "  </thead>\n",
       "  <tbody>\n",
       "    <tr>\n",
       "      <th>0</th>\n",
       "      <td>LP001002</td>\n",
       "      <td>Male</td>\n",
       "      <td>No</td>\n",
       "      <td>0</td>\n",
       "      <td>Graduate</td>\n",
       "      <td>No</td>\n",
       "      <td>5849</td>\n",
       "      <td>0.0</td>\n",
       "      <td>NaN</td>\n",
       "      <td>360.0</td>\n",
       "      <td>1.0</td>\n",
       "      <td>Urban</td>\n",
       "      <td>Y</td>\n",
       "    </tr>\n",
       "    <tr>\n",
       "      <th>1</th>\n",
       "      <td>LP001003</td>\n",
       "      <td>Male</td>\n",
       "      <td>Yes</td>\n",
       "      <td>1</td>\n",
       "      <td>Graduate</td>\n",
       "      <td>No</td>\n",
       "      <td>4583</td>\n",
       "      <td>1508.0</td>\n",
       "      <td>128.0</td>\n",
       "      <td>360.0</td>\n",
       "      <td>1.0</td>\n",
       "      <td>Rural</td>\n",
       "      <td>N</td>\n",
       "    </tr>\n",
       "    <tr>\n",
       "      <th>2</th>\n",
       "      <td>LP001005</td>\n",
       "      <td>Male</td>\n",
       "      <td>Yes</td>\n",
       "      <td>0</td>\n",
       "      <td>Graduate</td>\n",
       "      <td>Yes</td>\n",
       "      <td>3000</td>\n",
       "      <td>0.0</td>\n",
       "      <td>66.0</td>\n",
       "      <td>360.0</td>\n",
       "      <td>1.0</td>\n",
       "      <td>Urban</td>\n",
       "      <td>Y</td>\n",
       "    </tr>\n",
       "    <tr>\n",
       "      <th>3</th>\n",
       "      <td>LP001006</td>\n",
       "      <td>Male</td>\n",
       "      <td>Yes</td>\n",
       "      <td>0</td>\n",
       "      <td>Not Graduate</td>\n",
       "      <td>No</td>\n",
       "      <td>2583</td>\n",
       "      <td>2358.0</td>\n",
       "      <td>120.0</td>\n",
       "      <td>360.0</td>\n",
       "      <td>1.0</td>\n",
       "      <td>Urban</td>\n",
       "      <td>Y</td>\n",
       "    </tr>\n",
       "    <tr>\n",
       "      <th>4</th>\n",
       "      <td>LP001008</td>\n",
       "      <td>Male</td>\n",
       "      <td>No</td>\n",
       "      <td>0</td>\n",
       "      <td>Graduate</td>\n",
       "      <td>No</td>\n",
       "      <td>6000</td>\n",
       "      <td>0.0</td>\n",
       "      <td>141.0</td>\n",
       "      <td>360.0</td>\n",
       "      <td>1.0</td>\n",
       "      <td>Urban</td>\n",
       "      <td>Y</td>\n",
       "    </tr>\n",
       "  </tbody>\n",
       "</table>\n",
       "</div>"
      ],
      "text/plain": [
       "    Loan_ID Gender Married Dependents     Education Self_Employed  \\\n",
       "0  LP001002   Male      No          0      Graduate            No   \n",
       "1  LP001003   Male     Yes          1      Graduate            No   \n",
       "2  LP001005   Male     Yes          0      Graduate           Yes   \n",
       "3  LP001006   Male     Yes          0  Not Graduate            No   \n",
       "4  LP001008   Male      No          0      Graduate            No   \n",
       "\n",
       "   ApplicantIncome  CoapplicantIncome  LoanAmount  Loan_Amount_Term  \\\n",
       "0             5849                0.0         NaN             360.0   \n",
       "1             4583             1508.0       128.0             360.0   \n",
       "2             3000                0.0        66.0             360.0   \n",
       "3             2583             2358.0       120.0             360.0   \n",
       "4             6000                0.0       141.0             360.0   \n",
       "\n",
       "   Credit_History Property_Area Loan_Status  \n",
       "0             1.0         Urban           Y  \n",
       "1             1.0         Rural           N  \n",
       "2             1.0         Urban           Y  \n",
       "3             1.0         Urban           Y  \n",
       "4             1.0         Urban           Y  "
      ]
     },
     "execution_count": 3,
     "metadata": {},
     "output_type": "execute_result"
    }
   ],
   "source": [
    "df.head()"
   ]
  },
  {
   "cell_type": "markdown",
   "id": "5cda39b9",
   "metadata": {},
   "source": [
    "#### Seeing Info"
   ]
  },
  {
   "cell_type": "code",
   "execution_count": 4,
   "id": "b201cadf",
   "metadata": {},
   "outputs": [
    {
     "name": "stdout",
     "output_type": "stream",
     "text": [
      "<class 'pandas.core.frame.DataFrame'>\n",
      "RangeIndex: 614 entries, 0 to 613\n",
      "Data columns (total 13 columns):\n",
      " #   Column             Non-Null Count  Dtype  \n",
      "---  ------             --------------  -----  \n",
      " 0   Loan_ID            614 non-null    object \n",
      " 1   Gender             601 non-null    object \n",
      " 2   Married            611 non-null    object \n",
      " 3   Dependents         599 non-null    object \n",
      " 4   Education          614 non-null    object \n",
      " 5   Self_Employed      582 non-null    object \n",
      " 6   ApplicantIncome    614 non-null    int64  \n",
      " 7   CoapplicantIncome  614 non-null    float64\n",
      " 8   LoanAmount         592 non-null    float64\n",
      " 9   Loan_Amount_Term   600 non-null    float64\n",
      " 10  Credit_History     564 non-null    float64\n",
      " 11  Property_Area      614 non-null    object \n",
      " 12  Loan_Status        614 non-null    object \n",
      "dtypes: float64(4), int64(1), object(8)\n",
      "memory usage: 62.5+ KB\n"
     ]
    }
   ],
   "source": [
    "df.info()"
   ]
  },
  {
   "cell_type": "markdown",
   "id": "b3803fcf",
   "metadata": {},
   "source": [
    "#### Null values in Respective columns"
   ]
  },
  {
   "cell_type": "code",
   "execution_count": 5,
   "id": "63d891a1",
   "metadata": {},
   "outputs": [
    {
     "data": {
      "text/plain": [
       "Loan_ID               0\n",
       "Gender               13\n",
       "Married               3\n",
       "Dependents           15\n",
       "Education             0\n",
       "Self_Employed        32\n",
       "ApplicantIncome       0\n",
       "CoapplicantIncome     0\n",
       "LoanAmount           22\n",
       "Loan_Amount_Term     14\n",
       "Credit_History       50\n",
       "Property_Area         0\n",
       "Loan_Status           0\n",
       "dtype: int64"
      ]
     },
     "execution_count": 5,
     "metadata": {},
     "output_type": "execute_result"
    }
   ],
   "source": [
    "df.isna().sum()"
   ]
  },
  {
   "cell_type": "code",
   "execution_count": 6,
   "id": "917e5bd8",
   "metadata": {},
   "outputs": [
    {
     "data": {
      "text/plain": [
       "0    Male\n",
       "Name: Gender, dtype: object"
      ]
     },
     "execution_count": 6,
     "metadata": {},
     "output_type": "execute_result"
    }
   ],
   "source": [
    "df[\"Gender\"].mode()"
   ]
  },
  {
   "cell_type": "markdown",
   "id": "a658b81c",
   "metadata": {},
   "source": [
    "#### ∵ df [\"Gender\"].mode() has series of elements 0 and male we keep df[\"Gender\"].mode()[0] so that we get we get value 0 and we can fill in missing value using fillna"
   ]
  },
  {
   "cell_type": "code",
   "execution_count": 7,
   "id": "93b83109",
   "metadata": {},
   "outputs": [],
   "source": [
    "df[\"Gender\"].fillna(df[\"Gender\"].mode()[0], inplace=True)"
   ]
  },
  {
   "cell_type": "code",
   "execution_count": 8,
   "id": "3e99c621",
   "metadata": {},
   "outputs": [
    {
     "data": {
      "text/plain": [
       "Loan_ID               0\n",
       "Gender                0\n",
       "Married               3\n",
       "Dependents           15\n",
       "Education             0\n",
       "Self_Employed        32\n",
       "ApplicantIncome       0\n",
       "CoapplicantIncome     0\n",
       "LoanAmount           22\n",
       "Loan_Amount_Term     14\n",
       "Credit_History       50\n",
       "Property_Area         0\n",
       "Loan_Status           0\n",
       "dtype: int64"
      ]
     },
     "execution_count": 8,
     "metadata": {},
     "output_type": "execute_result"
    }
   ],
   "source": [
    "df.isna().sum()"
   ]
  },
  {
   "cell_type": "markdown",
   "id": "588b504a",
   "metadata": {},
   "source": [
    "#### Now all missing elements are filled with there respective mode"
   ]
  },
  {
   "cell_type": "code",
   "execution_count": 9,
   "id": "47227c46",
   "metadata": {},
   "outputs": [],
   "source": [
    "df[\"Married\"].fillna(df[\"Married\"].mode()[0], inplace=True)\n",
    "df[\"Dependents\"].fillna(df[\"Dependents\"].mode()[0], inplace=True)\n",
    "df[\"Self_Employed\"].fillna(df[\"Self_Employed\"].mode()[0], inplace=True)\n",
    "df[\"LoanAmount\"].fillna(df[\"LoanAmount\"].mode()[0], inplace=True)\n",
    "df[\"Loan_Amount_Term\"].fillna(df[\"Loan_Amount_Term\"].mode()[0], inplace=True)\n",
    "df[\"Credit_History\"].fillna(df[\"Credit_History\"].mode()[0], inplace=True)"
   ]
  },
  {
   "cell_type": "code",
   "execution_count": 10,
   "id": "313c7ab8",
   "metadata": {},
   "outputs": [
    {
     "data": {
      "text/plain": [
       "Loan_ID              0\n",
       "Gender               0\n",
       "Married              0\n",
       "Dependents           0\n",
       "Education            0\n",
       "Self_Employed        0\n",
       "ApplicantIncome      0\n",
       "CoapplicantIncome    0\n",
       "LoanAmount           0\n",
       "Loan_Amount_Term     0\n",
       "Credit_History       0\n",
       "Property_Area        0\n",
       "Loan_Status          0\n",
       "dtype: int64"
      ]
     },
     "execution_count": 10,
     "metadata": {},
     "output_type": "execute_result"
    }
   ],
   "source": [
    "df.isna().sum()"
   ]
  },
  {
   "cell_type": "code",
   "execution_count": 11,
   "id": "616005dd",
   "metadata": {},
   "outputs": [
    {
     "data": {
      "text/plain": [
       "<AxesSubplot:>"
      ]
     },
     "execution_count": 11,
     "metadata": {},
     "output_type": "execute_result"
    },
    {
     "data": {
      "image/png": "[encoded data removed]",
      "text/plain": [
       "<Figure size 640x480 with 1 Axes>"
      ]
     },
     "metadata": {},
     "output_type": "display_data"
    }
   ],
   "source": [
    "df[\"LoanAmount\"].hist(bins=20)"
   ]
  },
  {
   "cell_type": "code",
   "execution_count": 12,
   "id": "104b542f",
   "metadata": {},
   "outputs": [],
   "source": [
    "df[\"TotalIncome\"]=df[\"ApplicantIncome\"]+df[\"CoapplicantIncome\"]"
   ]
  },
  {
   "cell_type": "code",
   "execution_count": 13,
   "id": "b1f50513",
   "metadata": {
    "scrolled": false
   },
   "outputs": [
    {
     "data": {
      "text/plain": [
       "<AxesSubplot:>"
      ]
     },
     "execution_count": 13,
     "metadata": {},
     "output_type": "execute_result"
    },
    {
     "data": {
      "image/png": "[encoded data removed]",
      "text/plain": [
       "<Figure size 640x480 with 1 Axes>"
      ]
     },
     "metadata": {},
     "output_type": "display_data"
    }
   ],
   "source": [
    "df[\"TotalIncome\"].hist(bins=20)"
   ]
  },
  {
   "cell_type": "code",
   "execution_count": 14,
   "id": "e96e570f",
   "metadata": {},
   "outputs": [
    {
     "data": {
      "text/plain": [
       "Loan_ID              0\n",
       "Gender               0\n",
       "Married              0\n",
       "Dependents           0\n",
       "Education            0\n",
       "Self_Employed        0\n",
       "ApplicantIncome      0\n",
       "CoapplicantIncome    0\n",
       "LoanAmount           0\n",
       "Loan_Amount_Term     0\n",
       "Credit_History       0\n",
       "Property_Area        0\n",
       "Loan_Status          0\n",
       "TotalIncome          0\n",
       "dtype: int64"
      ]
     },
     "execution_count": 14,
     "metadata": {},
     "output_type": "execute_result"
    }
   ],
   "source": [
    "df.isna().sum()"
   ]
  },
  {
   "cell_type": "code",
   "execution_count": 15,
   "id": "5868e32c",
   "metadata": {},
   "outputs": [],
   "source": [
    "df[\"loanamount\"]=df[\"LoanAmount\"]"
   ]
  },
  {
   "cell_type": "code",
   "execution_count": 16,
   "id": "2307980c",
   "metadata": {
    "scrolled": false
   },
   "outputs": [
    {
     "data": {
      "text/plain": [
       "Loan_ID              0\n",
       "Gender               0\n",
       "Married              0\n",
       "Dependents           0\n",
       "Education            0\n",
       "Self_Employed        0\n",
       "ApplicantIncome      0\n",
       "CoapplicantIncome    0\n",
       "LoanAmount           0\n",
       "Loan_Amount_Term     0\n",
       "Credit_History       0\n",
       "Property_Area        0\n",
       "Loan_Status          0\n",
       "TotalIncome          0\n",
       "loanamount           0\n",
       "dtype: int64"
      ]
     },
     "execution_count": 16,
     "metadata": {},
     "output_type": "execute_result"
    }
   ],
   "source": [
    "df.isna().sum()"
   ]
  },
  {
   "cell_type": "markdown",
   "id": "fcccd5ff",
   "metadata": {},
   "source": [
    "#### Shape of dataframe there are 15 columns and 614 rows"
   ]
  },
  {
   "cell_type": "code",
   "execution_count": 17,
   "id": "c1924ebf",
   "metadata": {},
   "outputs": [
    {
     "data": {
      "text/plain": [
       "(614, 15)"
      ]
     },
     "execution_count": 17,
     "metadata": {},
     "output_type": "execute_result"
    }
   ],
   "source": [
    "df.shape"
   ]
  },
  {
   "cell_type": "markdown",
   "id": "28d1bab5",
   "metadata": {},
   "source": [
    "#### Percentage of Gender missing = Gender null/total no of rows "
   ]
  },
  {
   "cell_type": "code",
   "execution_count": 18,
   "id": "05bbd5bc",
   "metadata": {},
   "outputs": [
    {
     "data": {
      "text/plain": [
       "0.0"
      ]
     },
     "execution_count": 18,
     "metadata": {},
     "output_type": "execute_result"
    }
   ],
   "source": [
    "df[\"Gender\"].isna().sum()/df.shape[0]*100"
   ]
  },
  {
   "cell_type": "code",
   "execution_count": 19,
   "id": "173d5548",
   "metadata": {},
   "outputs": [
    {
     "name": "stdout",
     "output_type": "stream",
     "text": [
      "No of people who takes loan as group as Gender \n"
     ]
    },
    {
     "data": {
      "text/plain": [
       "Male      502\n",
       "Female    112\n",
       "Name: Gender, dtype: int64"
      ]
     },
     "execution_count": 19,
     "metadata": {},
     "output_type": "execute_result"
    }
   ],
   "source": [
    "print(\"No of people who takes loan as group as Gender \")\n",
    "df[\"Gender\"].value_counts()"
   ]
  },
  {
   "cell_type": "markdown",
   "id": "608458c2",
   "metadata": {},
   "source": [
    "#### To plot  Gender "
   ]
  },
  {
   "cell_type": "code",
   "execution_count": 20,
   "id": "10682bf4",
   "metadata": {
    "scrolled": false
   },
   "outputs": [
    {
     "data": {
      "text/plain": [
       "<AxesSubplot:xlabel='Gender', ylabel='count'>"
      ]
     },
     "execution_count": 20,
     "metadata": {},
     "output_type": "execute_result"
    },
    {
     "data": {
      "image/png": "[encoded data removed]",
      "text/plain": [
       "<Figure size 640x480 with 1 Axes>"
      ]
     },
     "metadata": {},
     "output_type": "display_data"
    }
   ],
   "source": [
    "sns.countplot(x='Gender',data=df)"
   ]
  },
  {
   "cell_type": "markdown",
   "id": "b2acc526",
   "metadata": {},
   "source": [
    "#### To plot  Married"
   ]
  },
  {
   "cell_type": "code",
   "execution_count": 21,
   "id": "05ca8f3b",
   "metadata": {},
   "outputs": [
    {
     "name": "stdout",
     "output_type": "stream",
     "text": [
      "No of people who takes loan as group as Married \n",
      "Yes    401\n",
      "No     213\n",
      "Name: Married, dtype: int64\n"
     ]
    },
    {
     "data": {
      "text/plain": [
       "<AxesSubplot:xlabel='Married', ylabel='count'>"
      ]
     },
     "execution_count": 21,
     "metadata": {},
     "output_type": "execute_result"
    },
    {
     "data": {
      "image/png": "[encoded data removed]",
      "text/plain": [
       "<Figure size 640x480 with 1 Axes>"
      ]
     },
     "metadata": {},
     "output_type": "display_data"
    }
   ],
   "source": [
    "print(\"No of people who takes loan as group as Married \")\n",
    "print(df[\"Married\"].value_counts())\n",
    "sns.countplot(x='Married',data=df)"
   ]
  },
  {
   "cell_type": "markdown",
   "id": "388035cf",
   "metadata": {},
   "source": [
    "#### To plot  Dependents"
   ]
  },
  {
   "cell_type": "code",
   "execution_count": 22,
   "id": "9355e7e3",
   "metadata": {},
   "outputs": [
    {
     "name": "stdout",
     "output_type": "stream",
     "text": [
      "No of people who takes loan as group as Dependents \n",
      "0     360\n",
      "1     102\n",
      "2     101\n",
      "3+     51\n",
      "Name: Dependents, dtype: int64\n"
     ]
    },
    {
     "data": {
      "text/plain": [
       "<AxesSubplot:xlabel='Dependents', ylabel='count'>"
      ]
     },
     "execution_count": 22,
     "metadata": {},
     "output_type": "execute_result"
    },
    {
     "data": {
      "image/png": "[encoded data removed]",
      "text/plain": [
       "<Figure size 640x480 with 1 Axes>"
      ]
     },
     "metadata": {},
     "output_type": "display_data"
    }
   ],
   "source": [
    "print(\"No of people who takes loan as group as Dependents \")\n",
    "print(df[\"Dependents\"].value_counts())\n",
    "# we can change color using palette to set1,set2,set3\n",
    "sns.countplot(x='Dependents',data=df,palette='Set3')"
   ]
  },
  {
   "cell_type": "markdown",
   "id": "cb873d96",
   "metadata": {},
   "source": [
    "#### To plot  LoanAmount"
   ]
  },
  {
   "cell_type": "code",
   "execution_count": 23,
   "id": "86a9887b",
   "metadata": {
    "scrolled": false
   },
   "outputs": [
    {
     "name": "stdout",
     "output_type": "stream",
     "text": [
      "No of people who takes loan as group as LoanAmount \n",
      "120.0    42\n",
      "110.0    17\n",
      "100.0    15\n",
      "160.0    12\n",
      "187.0    12\n",
      "         ..\n",
      "240.0     1\n",
      "214.0     1\n",
      "59.0      1\n",
      "166.0     1\n",
      "253.0     1\n",
      "Name: LoanAmount, Length: 203, dtype: int64\n"
     ]
    },
    {
     "data": {
      "text/plain": [
       "<AxesSubplot:xlabel='LoanAmount', ylabel='count'>"
      ]
     },
     "execution_count": 23,
     "metadata": {},
     "output_type": "execute_result"
    },
    {
     "data": {
      "image/png": "[encoded data removed]",
      "text/plain": [
       "<Figure size 640x480 with 1 Axes>"
      ]
     },
     "metadata": {},
     "output_type": "display_data"
    }
   ],
   "source": [
    "print(\"No of people who takes loan as group as LoanAmount \")\n",
    "print(df[\"LoanAmount\"].value_counts())\n",
    "sns.countplot(x='LoanAmount',data=df,palette='Set2')"
   ]
  },
  {
   "cell_type": "markdown",
   "id": "e033ea36",
   "metadata": {},
   "source": [
    "#### To plot  Credit_History"
   ]
  },
  {
   "cell_type": "code",
   "execution_count": 24,
   "id": "9d0ac40c",
   "metadata": {},
   "outputs": [
    {
     "name": "stdout",
     "output_type": "stream",
     "text": [
      "No of people who takes loan as group as Credit_History \n",
      "1.0    525\n",
      "0.0     89\n",
      "Name: Credit_History, dtype: int64\n"
     ]
    },
    {
     "data": {
      "text/plain": [
       "<AxesSubplot:xlabel='Credit_History', ylabel='count'>"
      ]
     },
     "execution_count": 24,
     "metadata": {},
     "output_type": "execute_result"
    },
    {
     "data": {
      "image/png": "[encoded data removed]",
      "text/plain": [
       "<Figure size 640x480 with 1 Axes>"
      ]
     },
     "metadata": {},
     "output_type": "display_data"
    }
   ],
   "source": [
    "print(\"No of people who takes loan as group as Credit_History \")\n",
    "print(df[\"Credit_History\"].value_counts())\n",
    "sns.countplot(x='Credit_History',data=df,palette='Set2')"
   ]
  },
  {
   "cell_type": "code",
   "execution_count": 25,
   "id": "9d23f764",
   "metadata": {},
   "outputs": [
    {
     "data": {
      "text/plain": [
       "Index(['Loan_ID', 'Gender', 'Married', 'Dependents', 'Education',\n",
       "       'Self_Employed', 'ApplicantIncome', 'CoapplicantIncome', 'LoanAmount',\n",
       "       'Loan_Amount_Term', 'Credit_History', 'Property_Area', 'Loan_Status',\n",
       "       'TotalIncome', 'loanamount'],\n",
       "      dtype='object')"
      ]
     },
     "execution_count": 25,
     "metadata": {},
     "output_type": "execute_result"
    }
   ],
   "source": [
    "df.columns"
   ]
  },
  {
   "cell_type": "code",
   "execution_count": 26,
   "id": "d7483ab9",
   "metadata": {},
   "outputs": [
    {
     "data": {
      "text/html": [
       "<div>\n",
       "<style scoped>\n",
       "    .dataframe tbody tr th:only-of-type {\n",
       "        vertical-align: middle;\n",
       "    }\n",
       "\n",
       "    .dataframe tbody tr th {\n",
       "        vertical-align: top;\n",
       "    }\n",
       "\n",
       "    .dataframe thead th {\n",
       "        text-align: right;\n",
       "    }\n",
       "</style>\n",
       "<table border=\"1\" class=\"dataframe\">\n",
       "  <thead>\n",
       "    <tr style=\"text-align: right;\">\n",
       "      <th></th>\n",
       "      <th>Loan_ID</th>\n",
       "      <th>Gender</th>\n",
       "      <th>Married</th>\n",
       "      <th>Dependents</th>\n",
       "      <th>Education</th>\n",
       "      <th>Self_Employed</th>\n",
       "      <th>ApplicantIncome</th>\n",
       "      <th>CoapplicantIncome</th>\n",
       "      <th>LoanAmount</th>\n",
       "      <th>Loan_Amount_Term</th>\n",
       "      <th>Credit_History</th>\n",
       "      <th>Property_Area</th>\n",
       "      <th>Loan_Status</th>\n",
       "      <th>TotalIncome</th>\n",
       "      <th>loanamount</th>\n",
       "    </tr>\n",
       "  </thead>\n",
       "  <tbody>\n",
       "    <tr>\n",
       "      <th>0</th>\n",
       "      <td>LP001002</td>\n",
       "      <td>Male</td>\n",
       "      <td>No</td>\n",
       "      <td>0</td>\n",
       "      <td>Graduate</td>\n",
       "      <td>No</td>\n",
       "      <td>5849</td>\n",
       "      <td>0.0</td>\n",
       "      <td>120.0</td>\n",
       "      <td>360.0</td>\n",
       "      <td>1.0</td>\n",
       "      <td>Urban</td>\n",
       "      <td>Y</td>\n",
       "      <td>5849.0</td>\n",
       "      <td>120.0</td>\n",
       "    </tr>\n",
       "  </tbody>\n",
       "</table>\n",
       "</div>"
      ],
      "text/plain": [
       "    Loan_ID Gender Married Dependents Education Self_Employed  \\\n",
       "0  LP001002   Male      No          0  Graduate            No   \n",
       "\n",
       "   ApplicantIncome  CoapplicantIncome  LoanAmount  Loan_Amount_Term  \\\n",
       "0             5849                0.0       120.0             360.0   \n",
       "\n",
       "   Credit_History Property_Area Loan_Status  TotalIncome  loanamount  \n",
       "0             1.0         Urban           Y       5849.0       120.0  "
      ]
     },
     "execution_count": 26,
     "metadata": {},
     "output_type": "execute_result"
    }
   ],
   "source": [
    "df.head(1)"
   ]
  },
  {
   "cell_type": "markdown",
   "id": "38809040",
   "metadata": {},
   "source": [
    "##### iloc[rows,columns]"
   ]
  },
  {
   "cell_type": "code",
   "execution_count": 27,
   "id": "08e92c17",
   "metadata": {
    "scrolled": false
   },
   "outputs": [
    {
     "name": "stdout",
     "output_type": "stream",
     "text": [
      "['Male' 'No' '0' 'Graduate' 360.0 1.0 5849.0 120.0]\n",
      "Y\n"
     ]
    }
   ],
   "source": [
    "x = df.iloc[:, np.r_[1:5, 9:11, 13:15]].values\n",
    "y = df.iloc[:, 12].values\n",
    "print(x[0])\n",
    "print(y[0])"
   ]
  },
  {
   "cell_type": "markdown",
   "id": "2613cef9",
   "metadata": {},
   "source": [
    "#### x=[Gender,Married,Dependents,Education,Self_Employed,Loan_Amount_Term,Credit_History,TotalIncome,loanamount]\n",
    "#### y=[Loan_Status]"
   ]
  },
  {
   "cell_type": "markdown",
   "id": "8147878d",
   "metadata": {},
   "source": [
    "#### Now we have to train and test the data so now we have split data into train and test so  from sklearn.model_selection import train_test_split to split data set into train and test"
   ]
  },
  {
   "cell_type": "code",
   "execution_count": 28,
   "id": "097b7487",
   "metadata": {},
   "outputs": [],
   "source": [
    "from sklearn.model_selection import train_test_split\n",
    "x_train,x_test,y_train,y_test=train_test_split(x,y,test_size=0.2,random_state=0)\n",
    "\n",
    "from sklearn.preprocessing import LabelEncoder\n",
    "Labelencoder_x=LabelEncoder()"
   ]
  },
  {
   "cell_type": "markdown",
   "id": "c4426f89",
   "metadata": {},
   "source": [
    "##### LabelEncoder()---> Initializes an empty mapping between labels and integers.\n",
    "##### fit()         ---> Mapping between the unique labels and the corresponding encoded integers\n",
    "##### transform     ---> The learned encoding to convert the labels into their corresponding numerical representation\n",
    "##### fit_transform --->does both fit and transform"
   ]
  },
  {
   "cell_type": "markdown",
   "id": "bb2abe6c",
   "metadata": {},
   "source": [
    "#### To see what is train and test data"
   ]
  },
  {
   "cell_type": "code",
   "execution_count": 29,
   "id": "17aa8ec5",
   "metadata": {
    "scrolled": false
   },
   "outputs": [
    {
     "data": {
      "text/plain": [
       "array(['Male', 'Yes', '0', 'Graduate', 360.0, 1.0, 5858.0, 131.0],\n",
       "      dtype=object)"
      ]
     },
     "execution_count": 29,
     "metadata": {},
     "output_type": "execute_result"
    }
   ],
   "source": [
    "x_train[0]"
   ]
  },
  {
   "cell_type": "code",
   "execution_count": 30,
   "id": "d083dcc7",
   "metadata": {},
   "outputs": [
    {
     "data": {
      "text/plain": [
       "array(['Male', 'No', '0', 'Graduate', 360.0, 1.0, 7085.0, 84.0],\n",
       "      dtype=object)"
      ]
     },
     "execution_count": 30,
     "metadata": {},
     "output_type": "execute_result"
    }
   ],
   "source": [
    "x_test[0]"
   ]
  },
  {
   "cell_type": "code",
   "execution_count": 31,
   "id": "4d306d53",
   "metadata": {},
   "outputs": [
    {
     "data": {
      "text/plain": [
       "'Y'"
      ]
     },
     "execution_count": 31,
     "metadata": {},
     "output_type": "execute_result"
    }
   ],
   "source": [
    "y_train[0]"
   ]
  },
  {
   "cell_type": "code",
   "execution_count": 32,
   "id": "c25dd519",
   "metadata": {},
   "outputs": [
    {
     "data": {
      "text/plain": [
       "'Y'"
      ]
     },
     "execution_count": 32,
     "metadata": {},
     "output_type": "execute_result"
    }
   ],
   "source": [
    "y_test[0]"
   ]
  },
  {
   "cell_type": "code",
   "execution_count": 33,
   "id": "561d7287",
   "metadata": {},
   "outputs": [
    {
     "data": {
      "text/plain": [
       "array([[1, 1, 0, ..., 1, 267, 131.0],\n",
       "       [1, 0, 1, ..., 1, 407, 196.0],\n",
       "       [1, 1, 0, ..., 0, 249, 149.0],\n",
       "       ...,\n",
       "       [1, 1, 3, ..., 1, 363, 200.0],\n",
       "       [1, 1, 0, ..., 1, 273, 160.0],\n",
       "       [0, 1, 0, ..., 1, 301, 182.0]], dtype=object)"
      ]
     },
     "execution_count": 33,
     "metadata": {},
     "output_type": "execute_result"
    }
   ],
   "source": [
    "for i in  range(0,7):\n",
    "    x_train[:,i]=Labelencoder_x.fit_transform(x_train[:,i])\n",
    "x_train    "
   ]
  },
  {
   "cell_type": "code",
   "execution_count": 34,
   "id": "1ca858b6",
   "metadata": {
    "scrolled": false
   },
   "outputs": [
    {
     "data": {
      "text/plain": [
       "array([1, 0, 0, 1, 1, 0, 1, 1, 1, 0, 0, 1, 1, 1, 1, 1, 1, 1, 1, 0, 1, 1,\n",
       "       0, 1, 1, 0, 0, 1, 1, 1, 0, 1, 1, 1, 1, 1, 0, 1, 0, 1, 0, 1, 1, 1,\n",
       "       1, 0, 0, 0, 1, 1, 1, 0, 1, 1, 1, 1, 1, 1, 1, 1, 0, 1, 0, 1, 1, 0,\n",
       "       1, 1, 1, 1, 1, 0, 0, 1, 1, 0, 1, 0, 0, 1, 0, 0, 1, 1, 1, 1, 1, 1,\n",
       "       1, 1, 0, 1, 0, 1, 0, 1, 1, 1, 1, 0, 0, 1, 1, 1, 0, 1, 1, 0, 0, 0,\n",
       "       1, 1, 1, 0, 1, 0, 0, 1, 0, 0, 0, 1, 1, 1, 1, 1, 0, 0, 0, 0, 1, 1,\n",
       "       0, 1, 1, 1, 1, 1, 1, 0, 0, 1, 1, 1, 1, 1, 0, 1, 1, 1, 1, 1, 1, 1,\n",
       "       1, 1, 1, 0, 1, 1, 1, 1, 1, 1, 1, 1, 1, 1, 1, 0, 0, 1, 1, 1, 1, 0,\n",
       "       0, 1, 0, 1, 0, 0, 0, 1, 0, 1, 1, 1, 1, 1, 0, 0, 1, 0, 1, 1, 1, 1,\n",
       "       0, 0, 1, 1, 1, 1, 1, 0, 0, 1, 1, 1, 1, 0, 1, 1, 1, 1, 0, 0, 1, 1,\n",
       "       0, 1, 1, 1, 0, 1, 1, 1, 0, 1, 0, 1, 0, 1, 1, 0, 0, 0, 1, 0, 1, 1,\n",
       "       1, 1, 1, 0, 1, 1, 1, 1, 1, 1, 0, 1, 0, 1, 0, 1, 1, 1, 1, 1, 1, 1,\n",
       "       1, 1, 0, 0, 1, 0, 1, 1, 1, 0, 1, 1, 0, 1, 0, 1, 0, 1, 1, 1, 1, 1,\n",
       "       1, 1, 1, 1, 0, 1, 1, 0, 1, 1, 1, 0, 0, 1, 1, 1, 1, 0, 1, 0, 1, 1,\n",
       "       1, 1, 1, 0, 1, 0, 1, 0, 0, 1, 1, 0, 1, 1, 0, 1, 1, 0, 0, 1, 1, 1,\n",
       "       1, 1, 1, 0, 1, 1, 1, 0, 1, 0, 0, 0, 0, 1, 1, 1, 1, 0, 0, 1, 1, 1,\n",
       "       1, 0, 1, 0, 1, 1, 1, 1, 1, 0, 1, 1, 1, 1, 1, 1, 1, 0, 1, 0, 0, 0,\n",
       "       1, 1, 0, 1, 1, 1, 1, 0, 1, 1, 0, 1, 0, 0, 0, 1, 1, 1, 1, 1, 1, 1,\n",
       "       1, 0, 1, 0, 1, 1, 1, 0, 1, 1, 1, 0, 0, 1, 1, 1, 1, 0, 1, 1, 1, 1,\n",
       "       1, 1, 0, 1, 0, 1, 0, 1, 1, 0, 0, 1, 1, 0, 1, 1, 1, 1, 1, 1, 1, 0,\n",
       "       1, 1, 0, 0, 1, 0, 1, 1, 1, 1, 1, 1, 1, 0, 0, 1, 0, 0, 0, 0, 0, 1,\n",
       "       1, 1, 1, 1, 1, 0, 1, 0, 1, 0, 0, 1, 1, 1, 0, 1, 1, 0, 0, 0, 0, 1,\n",
       "       1, 1, 1, 0, 1, 0, 1])"
      ]
     },
     "execution_count": 34,
     "metadata": {},
     "output_type": "execute_result"
    }
   ],
   "source": [
    "Labelencoder_y=LabelEncoder()\n",
    "y_train=Labelencoder_y.fit_transform(y_train)\n",
    "y_train "
   ]
  },
  {
   "cell_type": "code",
   "execution_count": 35,
   "id": "c572dac8",
   "metadata": {
    "scrolled": true
   },
   "outputs": [
    {
     "data": {
      "text/plain": [
       "array([[1, 0, 0, 0, 5, 1, 85, 84.0],\n",
       "       [0, 0, 0, 0, 5, 1, 28, 112.0],\n",
       "       [1, 1, 0, 0, 5, 1, 104, 324.0],\n",
       "       [1, 1, 0, 0, 5, 1, 80, 110.0],\n",
       "       [1, 1, 2, 0, 5, 1, 22, 97.0],\n",
       "       [1, 1, 0, 1, 3, 0, 70, 165.0],\n",
       "       [1, 1, 3, 0, 3, 1, 77, 157.0],\n",
       "       [1, 0, 0, 0, 5, 1, 114, 405.0],\n",
       "       [1, 0, 0, 0, 5, 0, 53, 124.0],\n",
       "       [1, 1, 0, 0, 5, 1, 55, 128.0],\n",
       "       [0, 0, 0, 0, 5, 1, 4, 84.0],\n",
       "       [1, 1, 1, 0, 5, 1, 2, 95.0],\n",
       "       [0, 0, 0, 0, 5, 1, 96, 280.0],\n",
       "       [1, 1, 2, 0, 5, 1, 97, 236.0],\n",
       "       [1, 1, 0, 0, 5, 1, 117, 96.0],\n",
       "       [1, 1, 1, 0, 5, 1, 22, 67.0],\n",
       "       [1, 0, 1, 1, 5, 1, 32, 190.0],\n",
       "       [1, 0, 0, 1, 5, 1, 25, 132.0],\n",
       "       [0, 0, 0, 0, 5, 1, 1, 93.0],\n",
       "       [1, 1, 0, 1, 5, 0, 44, 181.0],\n",
       "       [0, 1, 0, 0, 5, 0, 71, 120.0],\n",
       "       [1, 1, 0, 0, 5, 1, 43, 143.0],\n",
       "       [1, 1, 2, 0, 5, 1, 91, 108.0],\n",
       "       [1, 1, 2, 0, 5, 1, 111, 165.0],\n",
       "       [1, 1, 0, 0, 5, 1, 35, 58.0],\n",
       "       [1, 1, 1, 0, 5, 1, 94, 250.0],\n",
       "       [1, 0, 0, 0, 5, 1, 98, 187.0],\n",
       "       [1, 1, 0, 0, 5, 1, 110, 187.0],\n",
       "       [1, 1, 3, 0, 5, 0, 41, 128.0],\n",
       "       [0, 0, 0, 0, 5, 0, 50, 103.0],\n",
       "       [1, 1, 0, 0, 5, 1, 99, 228.0],\n",
       "       [1, 0, 0, 1, 5, 1, 46, 48.0],\n",
       "       [1, 1, 1, 1, 5, 1, 52, 90.0],\n",
       "       [1, 1, 0, 0, 5, 1, 102, 180.0],\n",
       "       [1, 1, 0, 0, 5, 1, 95, 120.0],\n",
       "       [0, 1, 0, 1, 5, 0, 57, 178.0],\n",
       "       [1, 1, 0, 0, 5, 1, 65, 172.0],\n",
       "       [1, 0, 0, 1, 5, 1, 39, 126.0],\n",
       "       [1, 1, 0, 0, 5, 1, 75, 128.0],\n",
       "       [1, 1, 2, 1, 5, 1, 24, 108.0],\n",
       "       [0, 0, 0, 0, 5, 1, 9, 80.0],\n",
       "       [1, 1, 3, 0, 5, 0, 68, 123.0],\n",
       "       [1, 1, 2, 0, 2, 1, 0, 17.0],\n",
       "       [1, 1, 1, 1, 5, 1, 67, 158.0],\n",
       "       [1, 0, 0, 0, 5, 1, 21, 76.0],\n",
       "       [1, 0, 0, 0, 5, 1, 113, 187.0],\n",
       "       [1, 1, 1, 0, 5, 1, 18, 116.0],\n",
       "       [0, 0, 0, 0, 5, 1, 37, 115.0],\n",
       "       [1, 1, 1, 0, 5, 1, 72, 128.0],\n",
       "       [1, 0, 0, 0, 5, 1, 78, 140.0],\n",
       "       [1, 1, 3, 1, 5, 1, 8, 74.0],\n",
       "       [1, 1, 0, 0, 5, 1, 84, 130.0],\n",
       "       [1, 1, 0, 1, 5, 1, 31, 107.0],\n",
       "       [1, 0, 0, 0, 5, 1, 61, 120.0],\n",
       "       [1, 1, 0, 0, 5, 1, 19, 112.0],\n",
       "       [1, 1, 0, 0, 5, 1, 107, 259.0],\n",
       "       [1, 1, 0, 0, 5, 1, 34, 95.0],\n",
       "       [1, 0, 0, 1, 5, 1, 74, 133.0],\n",
       "       [1, 1, 2, 0, 5, 1, 62, 168.0],\n",
       "       [1, 0, 0, 0, 5, 1, 27, 120.0],\n",
       "       [0, 0, 0, 0, 5, 0, 108, 137.0],\n",
       "       [0, 0, 0, 0, 5, 1, 103, 214.0],\n",
       "       [1, 1, 0, 1, 5, 1, 38, 115.0],\n",
       "       [0, 0, 0, 0, 5, 0, 13, 76.0],\n",
       "       [1, 1, 2, 0, 5, 1, 69, 133.0],\n",
       "       [1, 1, 1, 0, 5, 1, 112, 315.0],\n",
       "       [1, 1, 0, 0, 5, 1, 73, 160.0],\n",
       "       [1, 0, 0, 0, 5, 1, 47, 136.0],\n",
       "       [1, 1, 0, 0, 5, 1, 81, 182.0],\n",
       "       [1, 0, 0, 1, 5, 1, 60, 96.0],\n",
       "       [1, 0, 0, 0, 5, 1, 83, 67.0],\n",
       "       [0, 1, 0, 0, 5, 1, 5, 130.0],\n",
       "       [1, 1, 2, 1, 5, 1, 58, 157.0],\n",
       "       [1, 1, 1, 1, 3, 1, 79, 137.0],\n",
       "       [0, 1, 0, 0, 5, 1, 54, 144.0],\n",
       "       [1, 1, 0, 1, 4, 1, 56, 124.0],\n",
       "       [1, 0, 0, 0, 5, 1, 120, 90.0],\n",
       "       [1, 0, 3, 0, 5, 1, 118, 320.0],\n",
       "       [1, 1, 2, 0, 5, 1, 101, 112.0],\n",
       "       [0, 0, 0, 0, 5, 0, 26, 116.0],\n",
       "       [0, 0, 0, 0, 6, 1, 33, 113.0],\n",
       "       [1, 1, 1, 0, 5, 1, 119, 500.0],\n",
       "       [0, 0, 0, 0, 5, 1, 89, 194.0],\n",
       "       [1, 1, 2, 0, 5, 1, 92, 187.0],\n",
       "       [1, 0, 0, 0, 6, 1, 6, 71.0],\n",
       "       [1, 1, 0, 0, 0, 1, 90, 111.0],\n",
       "       [1, 1, 0, 0, 5, 1, 45, 110.0],\n",
       "       [1, 1, 2, 0, 5, 1, 109, 200.0],\n",
       "       [1, 0, 1, 0, 3, 1, 17, 113.0],\n",
       "       [1, 1, 1, 0, 5, 1, 36, 104.0],\n",
       "       [0, 1, 0, 1, 5, 1, 16, 100.0],\n",
       "       [1, 0, 0, 0, 5, 1, 7, 74.0],\n",
       "       [1, 1, 1, 0, 1, 1, 88, 172.0],\n",
       "       [1, 1, 3, 0, 4, 0, 87, 180.0],\n",
       "       [0, 0, 0, 0, 5, 1, 3, 71.0],\n",
       "       [1, 0, 0, 1, 3, 0, 59, 126.0],\n",
       "       [1, 0, 0, 0, 3, 1, 82, 175.0],\n",
       "       [1, 0, 0, 0, 5, 1, 66, 144.0],\n",
       "       [1, 1, 2, 1, 5, 1, 51, 81.0],\n",
       "       [1, 1, 1, 0, 5, 1, 100, 187.0],\n",
       "       [1, 1, 0, 0, 5, 1, 93, 211.0],\n",
       "       [1, 1, 0, 0, 5, 1, 15, 100.0],\n",
       "       [1, 1, 2, 0, 5, 1, 106, 120.0],\n",
       "       [1, 0, 0, 0, 3, 1, 105, 120.0],\n",
       "       [1, 1, 3, 0, 5, 1, 64, 128.0],\n",
       "       [1, 0, 0, 0, 5, 1, 49, 125.0],\n",
       "       [1, 0, 0, 1, 5, 1, 42, 104.0],\n",
       "       [0, 0, 0, 0, 5, 1, 10, 88.0],\n",
       "       [1, 1, 0, 1, 5, 1, 20, 95.0],\n",
       "       [1, 1, 3, 1, 3, 1, 14, 81.0],\n",
       "       [1, 0, 0, 0, 5, 1, 76, 200.0],\n",
       "       [0, 0, 0, 0, 5, 1, 11, 135.0],\n",
       "       [1, 0, 0, 0, 6, 1, 18, 113.0],\n",
       "       [1, 1, 2, 0, 5, 1, 23, 70.0],\n",
       "       [1, 1, 0, 1, 5, 0, 63, 201.0],\n",
       "       [1, 1, 0, 0, 3, 0, 48, 90.0],\n",
       "       [0, 0, 0, 0, 5, 1, 30, 84.0],\n",
       "       [1, 0, 0, 0, 5, 1, 29, 134.0],\n",
       "       [1, 1, 2, 0, 5, 1, 86, 176.0],\n",
       "       [1, 1, 3, 0, 5, 1, 115, 130.0],\n",
       "       [1, 1, 0, 0, 5, 1, 116, 436.0],\n",
       "       [1, 1, 3, 1, 3, 0, 40, 70.0],\n",
       "       [1, 1, 1, 0, 5, 1, 12, 96.0]], dtype=object)"
      ]
     },
     "execution_count": 35,
     "metadata": {},
     "output_type": "execute_result"
    }
   ],
   "source": [
    "for i in  range(0,7):\n",
    "    x_test[:,i]=Labelencoder_x.fit_transform(x_test[:,i])\n",
    "x_test   "
   ]
  },
  {
   "cell_type": "code",
   "execution_count": 36,
   "id": "c17dbe09",
   "metadata": {},
   "outputs": [
    {
     "data": {
      "text/plain": [
       "array([1, 0, 1, 0, 1, 0, 1, 1, 0, 1, 1, 1, 1, 1, 1, 0, 0, 1, 1, 0, 0, 1,\n",
       "       1, 1, 1, 1, 1, 1, 0, 0, 1, 1, 1, 1, 1, 0, 1, 1, 1, 1, 1, 0, 1, 1,\n",
       "       1, 1, 1, 1, 0, 1, 1, 1, 1, 1, 1, 1, 1, 0, 1, 1, 1, 0, 1, 0, 1, 1,\n",
       "       1, 1, 1, 1, 0, 1, 1, 1, 1, 1, 0, 0, 1, 0, 1, 0, 0, 1, 0, 1, 1, 1,\n",
       "       1, 1, 1, 0, 0, 0, 1, 0, 1, 1, 1, 1, 1, 1, 1, 0, 1, 1, 1, 1, 1, 0,\n",
       "       1, 0, 0, 1, 0, 1, 1, 1, 1, 1, 1, 0, 1])"
      ]
     },
     "execution_count": 36,
     "metadata": {},
     "output_type": "execute_result"
    }
   ],
   "source": [
    "Labelencoder_y=LabelEncoder()\n",
    "y_test=Labelencoder_y.fit_transform(y_test)\n",
    "y_test "
   ]
  },
  {
   "cell_type": "markdown",
   "id": "34097d43",
   "metadata": {},
   "source": [
    "#### StandardScaler: This transformer is used for feature scaling by subtracting the mean and dividing by the standard deviation. \n",
    "#### LabelEncoder: This transformer is used to encode categorical labels into numerical values."
   ]
  },
  {
   "cell_type": "code",
   "execution_count": 37,
   "id": "f52ae855",
   "metadata": {},
   "outputs": [],
   "source": [
    "from sklearn.preprocessing import StandardScaler\n",
    "ss=StandardScaler()\n",
    "x_train=ss.fit_transform(x_train)\n",
    "x_test=ss.fit_transform(x_test)"
   ]
  },
  {
   "cell_type": "markdown",
   "id": "5b77f16c",
   "metadata": {},
   "source": [
    "#### Here Dataset is a labeled Data so it is supvised learning So we can use Regression or Classification \n",
    "#### ∵ Here label is not a value so we will not use regression \n",
    "#### Hence we will use classification \n",
    "#### To solve Classification we use classifiers like Decision Tree,Random Forest ,Naive Bayes "
   ]
  },
  {
   "cell_type": "code",
   "execution_count": 38,
   "id": "1fdc86f1",
   "metadata": {},
   "outputs": [
    {
     "data": {
      "text/plain": [
       "RandomForestClassifier()"
      ]
     },
     "execution_count": 38,
     "metadata": {},
     "output_type": "execute_result"
    }
   ],
   "source": [
    "from sklearn.ensemble import RandomForestClassifier\n",
    "Forest=RandomForestClassifier()\n",
    "Forest.fit(x_train,y_train)\n"
   ]
  },
  {
   "cell_type": "code",
   "execution_count": 39,
   "id": "9698fc29",
   "metadata": {},
   "outputs": [
    {
     "name": "stdout",
     "output_type": "stream",
     "text": [
      "Random Forest accuracy:0.7886178861788617\n"
     ]
    },
    {
     "data": {
      "text/plain": [
       "array([1, 1, 0, 1, 1, 0, 1, 0, 0, 1, 1, 1, 1, 1, 1, 1, 1, 1, 0, 0, 0, 1,\n",
       "       1, 1, 1, 1, 1, 1, 0, 0, 1, 1, 1, 1, 1, 0, 1, 1, 1, 1, 1, 0, 0, 1,\n",
       "       1, 0, 1, 1, 1, 1, 1, 1, 1, 1, 1, 0, 1, 1, 1, 1, 0, 1, 1, 0, 1, 1,\n",
       "       1, 1, 1, 1, 1, 1, 1, 1, 1, 1, 0, 1, 1, 0, 1, 0, 1, 1, 1, 1, 1, 1,\n",
       "       1, 1, 1, 1, 1, 0, 1, 0, 1, 1, 1, 1, 1, 1, 1, 1, 1, 1, 0, 1, 1, 1,\n",
       "       1, 1, 0, 1, 0, 0, 1, 1, 1, 1, 0, 0, 1])"
      ]
     },
     "execution_count": 39,
     "metadata": {},
     "output_type": "execute_result"
    }
   ],
   "source": [
    "from sklearn import metrics\n",
    "y_pred=Forest.predict(x_test)\n",
    "accforest=str(metrics.accuracy_score(y_pred,y_test))\n",
    "print(\"Random Forest accuracy:\" + accforest)\n",
    "y_pred"
   ]
  },
  {
   "cell_type": "code",
   "execution_count": 40,
   "id": "19264b3f",
   "metadata": {},
   "outputs": [
    {
     "data": {
      "text/plain": [
       "GaussianNB()"
      ]
     },
     "execution_count": 40,
     "metadata": {},
     "output_type": "execute_result"
    }
   ],
   "source": [
    "from sklearn.naive_bayes import GaussianNB\n",
    "naive=GaussianNB()\n",
    "naive.fit(x_train,y_train)"
   ]
  },
  {
   "cell_type": "code",
   "execution_count": 41,
   "id": "c5936c67",
   "metadata": {},
   "outputs": [
    {
     "name": "stdout",
     "output_type": "stream",
     "text": [
      "naive bayes accuracy:0.8292682926829268\n"
     ]
    },
    {
     "data": {
      "text/plain": [
       "array([1, 1, 1, 1, 1, 0, 1, 1, 0, 1, 1, 1, 1, 1, 1, 1, 1, 1, 1, 0, 0, 1,\n",
       "       1, 1, 1, 1, 1, 1, 0, 0, 1, 1, 1, 1, 1, 0, 1, 1, 1, 1, 1, 0, 1, 1,\n",
       "       1, 1, 1, 1, 1, 1, 1, 1, 1, 1, 1, 1, 1, 1, 1, 1, 0, 1, 1, 0, 1, 1,\n",
       "       1, 1, 1, 1, 1, 1, 1, 1, 1, 1, 1, 1, 1, 0, 1, 1, 1, 1, 1, 1, 1, 1,\n",
       "       1, 1, 1, 1, 1, 0, 1, 0, 1, 1, 1, 1, 1, 1, 1, 1, 1, 1, 1, 1, 1, 1,\n",
       "       1, 1, 1, 1, 0, 0, 1, 1, 1, 1, 1, 0, 1])"
      ]
     },
     "execution_count": 41,
     "metadata": {},
     "output_type": "execute_result"
    }
   ],
   "source": [
    "y_pred=naive.predict(x_test)\n",
    "accnaive=str(metrics.accuracy_score(y_pred,y_test))\n",
    "print(\"naive bayes accuracy:\" + accnaive)\n",
    "y_pred"
   ]
  },
  {
   "cell_type": "code",
   "execution_count": 42,
   "id": "04eac229",
   "metadata": {},
   "outputs": [
    {
     "data": {
      "text/plain": [
       "DecisionTreeClassifier()"
      ]
     },
     "execution_count": 42,
     "metadata": {},
     "output_type": "execute_result"
    }
   ],
   "source": [
    "from sklearn.tree import DecisionTreeClassifier\n",
    "tree=DecisionTreeClassifier()\n",
    "tree.fit(x_train,y_train)"
   ]
  },
  {
   "cell_type": "code",
   "execution_count": 44,
   "id": "5dcbed97",
   "metadata": {},
   "outputs": [
    {
     "name": "stdout",
     "output_type": "stream",
     "text": [
      "Decision Tree accuracy:0.7398373983739838\n"
     ]
    },
    {
     "data": {
      "text/plain": [
       "array([0, 1, 0, 0, 1, 0, 0, 0, 0, 1, 1, 1, 0, 1, 1, 1, 0, 1, 0, 0, 0, 1,\n",
       "       1, 1, 1, 1, 1, 1, 1, 0, 0, 1, 0, 1, 1, 0, 1, 1, 1, 1, 1, 0, 0, 1,\n",
       "       1, 1, 1, 1, 1, 0, 0, 1, 1, 1, 1, 1, 1, 1, 1, 1, 0, 0, 1, 0, 1, 1,\n",
       "       1, 0, 1, 1, 0, 1, 1, 0, 1, 1, 0, 0, 0, 0, 1, 1, 0, 1, 1, 1, 1, 1,\n",
       "       0, 1, 1, 1, 0, 0, 1, 0, 0, 1, 0, 1, 1, 1, 1, 1, 0, 1, 1, 1, 1, 0,\n",
       "       1, 1, 1, 1, 0, 0, 1, 1, 0, 1, 1, 0, 1])"
      ]
     },
     "execution_count": 44,
     "metadata": {},
     "output_type": "execute_result"
    }
   ],
   "source": [
    "y_pred=tree.predict(x_test)\n",
    "acctree=str(metrics.accuracy_score(y_pred,y_test))\n",
    "print(\"Decision Tree accuracy:\" + acctree)\n",
    "y_pred"
   ]
  },
  {
   "cell_type": "code",
   "execution_count": null,
   "id": "7912e761",
   "metadata": {},
   "outputs": [],
   "source": []
  }
 ],
 "metadata": {
  "kernelspec": {
   "display_name": "Python 3 (ipykernel)",
   "language": "python",
   "name": "python3"
  },
  "language_info": {
   "codemirror_mode": {
    "name": "ipython",
    "version": 3
   },
   "file_extension": ".py",
   "mimetype": "text/x-python",
   "name": "python",
   "nbconvert_exporter": "python",
   "pygments_lexer": "ipython3",
   "version": "3.9.13"
  }
 },
 "nbformat": 4,
 "nbformat_minor": 5
}
